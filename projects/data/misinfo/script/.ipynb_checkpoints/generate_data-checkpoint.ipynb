{
 "cells": [
  {
   "cell_type": "code",
   "execution_count": 8,
   "id": "ffa17b05-c74f-4bea-b779-6d44209047ef",
   "metadata": {},
   "outputs": [],
   "source": [
    "### Import Libraries\n",
    "\n",
    "import pandas as pd\n",
    "import random\n"
   ]
  },
  {
   "cell_type": "code",
   "execution_count": 6,
   "id": "122f46e1-ae28-441c-88bb-9702c08f26df",
   "metadata": {},
   "outputs": [],
   "source": [
    "### Helper Functions\n",
    "\n"
   ]
  },
  {
   "cell_type": "code",
   "execution_count": 9,
   "id": "b0632f29-5690-4cfe-b2c4-09ba57ab4b91",
   "metadata": {},
   "outputs": [],
   "source": [
    "### Generate Bar Chart Data\n",
    "\n",
    "#####\n",
    "# Inputs: (num_bars, min_val, max_val, xtitle, ytitle, name, integer=True)\n",
    "#\n",
    "# num_bars: array, length of 2-20\n",
    "# min_val, max_val: float, 0-inf (non-inclusive)\n",
    "# integer: True for integer or False for float; defaults to True\n",
    "# xtitle, ytitle: title of the columns\n",
    "#####\n",
    "\n",
    "def gen_bar_data(bars, min_val, max_val, xtitle, ytitle, integer=True):\n",
    "    if len(bars) < 2 or len(bars) > 20 or min_val > max_val or min_val <= 0 or (\".\" in name and not name.endswith(\".csv\")):\n",
    "        return\n",
    "    if \".\" not in name:\n",
    "        name = name + \".csv\"\n",
    "    vals = {bars[0]: min_val, bars[-1]: max_val}\n",
    "    for i in range(len(bars)-2):\n",
    "        n = 0\n",
    "        if kind == \"i\":\n",
    "            n = random.randint(min_val, max_val)\n",
    "        else:\n",
    "            n = random.random() * (max_val-min_val) + min_val\n",
    "        vals[bars[i+1]] = n\n",
    "    return pd.DataFrame(vals)"
   ]
  },
  {
   "cell_type": "code",
   "execution_count": null,
   "id": "a2464a82-e2b0-4bbe-a72c-f16fbecd33f6",
   "metadata": {},
   "outputs": [],
   "source": [
    "gen_bar_data()"
   ]
  }
 ],
 "metadata": {
  "kernelspec": {
   "display_name": "Python 3 (ipykernel)",
   "language": "python",
   "name": "python3"
  },
  "language_info": {
   "codemirror_mode": {
    "name": "ipython",
    "version": 3
   },
   "file_extension": ".py",
   "mimetype": "text/x-python",
   "name": "python",
   "nbconvert_exporter": "python",
   "pygments_lexer": "ipython3",
   "version": "3.9.19"
  }
 },
 "nbformat": 4,
 "nbformat_minor": 5
}
