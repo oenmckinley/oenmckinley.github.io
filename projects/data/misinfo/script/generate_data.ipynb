{
 "cells": [
  {
   "cell_type": "code",
   "execution_count": 8,
   "id": "ffa17b05-c74f-4bea-b779-6d44209047ef",
   "metadata": {},
   "outputs": [],
   "source": [
    "### Import Libraries\n",
    "\n",
    "import pandas as pd\n",
    "import random\n"
   ]
  },
  {
   "cell_type": "code",
   "execution_count": 6,
   "id": "122f46e1-ae28-441c-88bb-9702c08f26df",
   "metadata": {},
   "outputs": [],
   "source": [
    "### Helper Functions\n",
    "\n"
   ]
  },
  {
   "cell_type": "code",
   "execution_count": 26,
   "id": "b0632f29-5690-4cfe-b2c4-09ba57ab4b91",
   "metadata": {},
   "outputs": [],
   "source": [
    "### Generate Bar Chart Data\n",
    "\n",
    "#####\n",
    "# Inputs: (num_bars, min_val, max_val, xtitle, ytitle, name, integer=True)\n",
    "#\n",
    "# num_bars: array, length of 2-20\n",
    "# min_val, max_val: float, 0-inf (non-inclusive)\n",
    "# integer: True for integer or False for float; defaults to True\n",
    "# xtitle, ytitle: title of the columns\n",
    "#####\n",
    "\n",
    "def gen_bar_data(bars, min_val, max_val, xtitle, ytitle, integer=True, strict=False):\n",
    "    if len(bars) < 2 or len(bars) > 20 or min_val > max_val or min_val <= 0:\n",
    "        return\n",
    "    vals = []\n",
    "    count = len(bars)\n",
    "    if strict:\n",
    "        vals = [min_val, max_val]\n",
    "        count = count - 2\n",
    "    for i in range(count):\n",
    "        n = 0\n",
    "        if integer:\n",
    "            n = random.randint(min_val, max_val)\n",
    "        else:\n",
    "            n = random.random() * (max_val-min_val) + min_val\n",
    "        vals.append(n)\n",
    "    return pd.DataFrame({xtitle: bars, ytitle: vals})\n",
    "\n",
    "def gen_bar_data_n(num_bars, min_val, max_val, xtitle, ytitle, integer=True, strict=False):\n",
    "    if num_bars < 2 or num_bars > 20:\n",
    "        return\n",
    "    \n",
    "    return gen_bar_data(range(1,num_bars+1), min_val, max_val, xtitle, ytitle, integer, strict)"
   ]
  },
  {
   "cell_type": "code",
   "execution_count": 28,
   "id": "a2464a82-e2b0-4bbe-a72c-f16fbecd33f6",
   "metadata": {},
   "outputs": [
    {
     "data": {
      "text/html": [
       "<div>\n",
       "<style scoped>\n",
       "    .dataframe tbody tr th:only-of-type {\n",
       "        vertical-align: middle;\n",
       "    }\n",
       "\n",
       "    .dataframe tbody tr th {\n",
       "        vertical-align: top;\n",
       "    }\n",
       "\n",
       "    .dataframe thead th {\n",
       "        text-align: right;\n",
       "    }\n",
       "</style>\n",
       "<table border=\"1\" class=\"dataframe\">\n",
       "  <thead>\n",
       "    <tr style=\"text-align: right;\">\n",
       "      <th></th>\n",
       "      <th>#</th>\n",
       "      <th>Levels</th>\n",
       "    </tr>\n",
       "  </thead>\n",
       "  <tbody>\n",
       "    <tr>\n",
       "      <th>0</th>\n",
       "      <td>1</td>\n",
       "      <td>55</td>\n",
       "    </tr>\n",
       "    <tr>\n",
       "      <th>1</th>\n",
       "      <td>2</td>\n",
       "      <td>104</td>\n",
       "    </tr>\n",
       "    <tr>\n",
       "      <th>2</th>\n",
       "      <td>3</td>\n",
       "      <td>210</td>\n",
       "    </tr>\n",
       "    <tr>\n",
       "      <th>3</th>\n",
       "      <td>4</td>\n",
       "      <td>198</td>\n",
       "    </tr>\n",
       "    <tr>\n",
       "      <th>4</th>\n",
       "      <td>5</td>\n",
       "      <td>167</td>\n",
       "    </tr>\n",
       "    <tr>\n",
       "      <th>5</th>\n",
       "      <td>6</td>\n",
       "      <td>220</td>\n",
       "    </tr>\n",
       "    <tr>\n",
       "      <th>6</th>\n",
       "      <td>7</td>\n",
       "      <td>245</td>\n",
       "    </tr>\n",
       "    <tr>\n",
       "      <th>7</th>\n",
       "      <td>8</td>\n",
       "      <td>30</td>\n",
       "    </tr>\n",
       "    <tr>\n",
       "      <th>8</th>\n",
       "      <td>9</td>\n",
       "      <td>25</td>\n",
       "    </tr>\n",
       "    <tr>\n",
       "      <th>9</th>\n",
       "      <td>10</td>\n",
       "      <td>143</td>\n",
       "    </tr>\n",
       "  </tbody>\n",
       "</table>\n",
       "</div>"
      ],
      "text/plain": [
       "    #  Levels\n",
       "0   1      55\n",
       "1   2     104\n",
       "2   3     210\n",
       "3   4     198\n",
       "4   5     167\n",
       "5   6     220\n",
       "6   7     245\n",
       "7   8      30\n",
       "8   9      25\n",
       "9  10     143"
      ]
     },
     "execution_count": 28,
     "metadata": {},
     "output_type": "execute_result"
    }
   ],
   "source": [
    "gen_bar_data_n(10, 1, 255, \"#\", \"Levels\")"
   ]
  },
  {
   "cell_type": "code",
   "execution_count": null,
   "id": "8ee50391-62a1-40da-9e11-74e10aab3b48",
   "metadata": {},
   "outputs": [],
   "source": []
  }
 ],
 "metadata": {
  "kernelspec": {
   "display_name": "Python 3 (ipykernel)",
   "language": "python",
   "name": "python3"
  },
  "language_info": {
   "codemirror_mode": {
    "name": "ipython",
    "version": 3
   },
   "file_extension": ".py",
   "mimetype": "text/x-python",
   "name": "python",
   "nbconvert_exporter": "python",
   "pygments_lexer": "ipython3",
   "version": "3.9.19"
  }
 },
 "nbformat": 4,
 "nbformat_minor": 5
}
